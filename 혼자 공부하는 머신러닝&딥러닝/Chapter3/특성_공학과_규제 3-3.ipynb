{
  "nbformat": 4,
  "nbformat_minor": 0,
  "metadata": {
    "colab": {
      "provenance": []
    },
    "kernelspec": {
      "name": "python3",
      "display_name": "Python 3"
    },
    "language_info": {
      "name": "python"
    }
  },
  "cells": [
    {
      "cell_type": "markdown",
      "source": [
        "# 특성 공학과 규제\n",
        "***\n",
        "저번 장에서 하나의 특성을 사용해서 선형 회귀 모델을 훈련시켰다. <br>\n",
        "훈련시킨 모델은 과소적합으로 판정됐다. 이번 장에서는 모델을 좀 더 복잡하게 만들 뿐만 아니라 과대적합된 모델을 억제하는 방법 또한 배울 것이다.\n",
        "\n",
        "<br><br>\n",
        "\n",
        "\n",
        "## 다중 회귀\n",
        "***\n",
        "선형 회귀 모델은 특성이 많을 수록 효과가 좋다. 농어의 길이와 농어의 두께, 2가지 특성을 이용해서 농어의 무게를 예측하는 선형 회귀 모델을 만들 것이다.\n",
        "\n",
        "<br><br>\n",
        "\n",
        "- 다중 회귀 : 여러 개의 특성을 사용한 선형 회귀\n",
        "<br><br><Br>\n",
        "\n",
        "[특성 1개 -> 2차원 평면]\n",
        "![334_linear_regression_20210604111428](https://github.com/user-attachments/assets/a89a71eb-710d-4f79-aecd-eb8d634bd269)\n",
        "\n",
        "<br><br>\n",
        "\n",
        "<br>\n",
        "\n",
        "[특성 2개 -> 3차원 공간]\n",
        "![fig-regression-variable-space](https://github.com/user-attachments/assets/cd3dd3f9-e854-4131-9de4-87441ff084c5)\n",
        "\n",
        "<br><br>\n",
        "\n",
        "특성이 2개가 되면 3차원 공간을 형성한다. <br>\n",
        "선형 회귀 방정식 <br> $Y$ $=$ $a$ $*$ $x1$ $+$ $b$ $*$ $x2$ $+$ $절편$ <br>\n",
        "'($타깃$ $=$ $a$ $*$ $특성1$ $+$ $b$ $*$ $특성2$ $+$ $절편$)'\n",
        "\n",
        "<br><br>\n",
        "\n",
        "***특성이 많은 고차원에서는 선형 회귀가 매우 복잡한 모델을 표현할 수 있다.***\n",
        "<br><br><Br>\n",
        "\n",
        "\n",
        "농어의 무게를 예측하기 위해서 특성을 3개 사용할 것이다. 각각, 농어의 길이, 농어의 높이, 농어의 두께다. <br>\n",
        "또한, 각 특성을 곱하여 새로운 특성을 만들 것이다.<br>\n",
        "\n",
        "***기존의 특성을 사용하여 새로운 특성을 뽑아내는 작업을 '특성 공학' 이라고 한다.***\n",
        "\n",
        "<br><Br>\n",
        "\n",
        "### 데이터 준비하기\n",
        "***\n",
        "농어의 특성 데이터를 웹사이트에 들어가 복사해 붙여넣는 작업은 번거롭다.\n",
        "하지만 pandas 라이브러리를 사용하면 데이터를 바로 다운로드할 수 있다.\n",
        "\n",
        "<Br>\n",
        "\n",
        "- pandas : 데이터 분석 라이브러리로 '데이터프레임' 은 판다스 핵심 데이터 구조다.\n",
        "<br> 판다스 데이터프레임을 만들기 위해 많이 사용하는 파일은 `csv 파일` 이다.\n",
        "<br><br>\n",
        "\n",
        "1. 판다스를 사용해 농어 데이터를 인터넷에서 내려받아 데이터프레임에 저장한다.\n",
        "\n",
        "2. 넘파이 배열로 변환하여 선형 회귀 모델을 훈련한다.  \n",
        "\n",
        "\n",
        "\n"
      ],
      "metadata": {
        "id": "k-__FCKfHWtW"
      }
    },
    {
      "cell_type": "code",
      "source": [
        "import pandas as pd\n",
        "\n",
        "df = pd.read_csv('https://raw.githubusercontent.com/rickiepark/hg-mldl/master/perch_full.csv')\n",
        "\n",
        "perch_full = df.to_numpy()\n",
        "print(perch_full)"
      ],
      "metadata": {
        "colab": {
          "base_uri": "https://localhost:8080/"
        },
        "id": "kOYwa1b6KWvn",
        "outputId": "fcfc9f37-3591-4118-e194-81c9f013a5ca"
      },
      "execution_count": null,
      "outputs": [
        {
          "output_type": "stream",
          "name": "stdout",
          "text": [
            "[[ 8.4   2.11  1.41]\n",
            " [13.7   3.53  2.  ]\n",
            " [15.    3.82  2.43]\n",
            " [16.2   4.59  2.63]\n",
            " [17.4   4.59  2.94]\n",
            " [18.    5.22  3.32]\n",
            " [18.7   5.2   3.12]\n",
            " [19.    5.64  3.05]\n",
            " [19.6   5.14  3.04]\n",
            " [20.    5.08  2.77]\n",
            " [21.    5.69  3.56]\n",
            " [21.    5.92  3.31]\n",
            " [21.    5.69  3.67]\n",
            " [21.3   6.38  3.53]\n",
            " [22.    6.11  3.41]\n",
            " [22.    5.64  3.52]\n",
            " [22.    6.11  3.52]\n",
            " [22.    5.88  3.52]\n",
            " [22.    5.52  4.  ]\n",
            " [22.5   5.86  3.62]\n",
            " [22.5   6.79  3.62]\n",
            " [22.7   5.95  3.63]\n",
            " [23.    5.22  3.63]\n",
            " [23.5   6.28  3.72]\n",
            " [24.    7.29  3.72]\n",
            " [24.    6.38  3.82]\n",
            " [24.6   6.73  4.17]\n",
            " [25.    6.44  3.68]\n",
            " [25.6   6.56  4.24]\n",
            " [26.5   7.17  4.14]\n",
            " [27.3   8.32  5.14]\n",
            " [27.5   7.17  4.34]\n",
            " [27.5   7.05  4.34]\n",
            " [27.5   7.28  4.57]\n",
            " [28.    7.82  4.2 ]\n",
            " [28.7   7.59  4.64]\n",
            " [30.    7.62  4.77]\n",
            " [32.8  10.03  6.02]\n",
            " [34.5  10.26  6.39]\n",
            " [35.   11.49  7.8 ]\n",
            " [36.5  10.88  6.86]\n",
            " [36.   10.61  6.74]\n",
            " [37.   10.84  6.26]\n",
            " [37.   10.57  6.37]\n",
            " [39.   11.14  7.49]\n",
            " [39.   11.14  6.  ]\n",
            " [39.   12.43  7.35]\n",
            " [40.   11.93  7.11]\n",
            " [40.   11.73  7.22]\n",
            " [40.   12.38  7.46]\n",
            " [40.   11.14  6.63]\n",
            " [42.   12.8   6.87]\n",
            " [43.   11.93  7.28]\n",
            " [43.   12.51  7.42]\n",
            " [43.5  12.6   8.14]\n",
            " [44.   12.49  7.6 ]]\n"
          ]
        }
      ]
    },
    {
      "cell_type": "markdown",
      "source": [
        "<br><br>\n",
        "\n",
        "타깃 데이터는 저번과 동일한 방식으로 준비한다."
      ],
      "metadata": {
        "id": "FKSTGyCZLab7"
      }
    },
    {
      "cell_type": "code",
      "source": [
        "import numpy as np\n",
        "perch_weight = np.array([5.9, 32.0, 40.0, 51.5, 70.0, 100.0, 78.0, 80.0, 85.0, 85.0, 110.0,\n",
        "       115.0, 125.0, 130.0, 120.0, 120.0, 130.0, 135.0, 110.0, 130.0,\n",
        "       150.0, 145.0, 150.0, 170.0, 225.0, 145.0, 188.0, 180.0, 197.0,\n",
        "       218.0, 300.0, 260.0, 265.0, 250.0, 250.0, 300.0, 320.0, 514.0,\n",
        "       556.0, 840.0, 685.0, 700.0, 700.0, 690.0, 900.0, 650.0, 820.0,\n",
        "       850.0, 900.0, 1015.0, 820.0, 1100.0, 1000.0, 1100.0, 1000.0,\n",
        "       1000.0])"
      ],
      "metadata": {
        "id": "S3u3gH7RLfgT"
      },
      "execution_count": null,
      "outputs": []
    },
    {
      "cell_type": "code",
      "source": [
        "from sklearn.model_selection import train_test_split\n",
        "\n",
        "train_input, test_input, train_target, test_target = train_test_split(perch_full, perch_weight, random_state=42)"
      ],
      "metadata": {
        "id": "M2RGdDEDLqn1"
      },
      "execution_count": null,
      "outputs": []
    },
    {
      "cell_type": "markdown",
      "source": [
        "사이킷런에는 특성을 만들고 데이터를 전처리하기 위한 클래스가 존재한다. 이 클래스를 `변환기` 라고 부른다.<BR><BR>\n",
        "\n",
        "변환기 PolynomialFeatures 클래스는 fit() 메서드의 매개변수로 특성을 넣어, 새로운 특성을 찾는다.\n",
        "<br>\n",
        "\n",
        "예를 들어 fit([[2, 3]]) 을 넣었다고 가정하자.\n",
        "fit() 메서드는 'degree=2' 라는 기본 매개변수를 가지고 있는데, 이것은 제곱을 의미한다. 만일 'degree=3'으로 바꾸면 세제곱까지 특성을 만들게 되는 것이다.<br><br>\n",
        "\n",
        "돌아와서, fit([[2, 3]]) 은 $2$, $3$, $2^2$, $3^2$, $2$ x $3$, $1(bias)$ 6개의 샘플을 만든다. 각 특성의 제곱과, 특성끼리의 곱, 1(bias) 이다.\n",
        "\n",
        "<br><Br>\n",
        "\n",
        "참고로 1은 선형 방정식의 절편에 1을 곱한 값이다. <br>\n",
        "사이킷런의 선형 모델은 자동으로 절편을 추가하므로 1 특성은 필요 없다."
      ],
      "metadata": {
        "id": "ipxsTFq5V1uW"
      }
    },
    {
      "cell_type": "code",
      "source": [
        "from sklearn.preprocessing import PolynomialFeatures\n",
        "\n",
        "poly = PolynomialFeatures()\n",
        "poly.fit([[2, 3]])\n",
        "\n",
        "print(poly.transform([[2, 3]]))     # 1은 필요 없다. 지워보자."
      ],
      "metadata": {
        "colab": {
          "base_uri": "https://localhost:8080/"
        },
        "id": "l9ne3RbhMAFX",
        "outputId": "c421397c-eb42-42e0-a24c-4d40d5cbaf03"
      },
      "execution_count": null,
      "outputs": [
        {
          "output_type": "stream",
          "name": "stdout",
          "text": [
            "[[1. 2. 3. 4. 6. 9.]]\n"
          ]
        }
      ]
    },
    {
      "cell_type": "code",
      "source": [
        "poly = PolynomialFeatures(include_bias=False)\n",
        "poly.fit([[2, 3]])\n",
        "print(poly.transform([[2, 3]]))"
      ],
      "metadata": {
        "colab": {
          "base_uri": "https://localhost:8080/"
        },
        "id": "XOawUhjAYj2t",
        "outputId": "1aacd2a0-1e5e-4c52-cfd0-97ddfbdcfa36"
      },
      "execution_count": null,
      "outputs": [
        {
          "output_type": "stream",
          "name": "stdout",
          "text": [
            "[[2. 3. 4. 6. 9.]]\n"
          ]
        }
      ]
    },
    {
      "cell_type": "markdown",
      "source": [
        "절편을 위한 항이 제거되고 특성의 제곱과 특성끼리 곱한 항만 추가되었다.\n",
        "\n",
        "<br><br>\n",
        "이제 이 방식을 train_input 에 적용해보자\n",
        "\n",
        "<br>"
      ],
      "metadata": {
        "id": "6zSuqmUWYu-g"
      }
    },
    {
      "cell_type": "code",
      "source": [
        "poly = PolynomialFeatures(include_bias=False)\n",
        "poly.fit(train_input)\n",
        "\n",
        "train_poly = poly.transform(train_input)\n",
        "print(train_poly)\n",
        "print()\n",
        "print(train_poly.shape)"
      ],
      "metadata": {
        "colab": {
          "base_uri": "https://localhost:8080/"
        },
        "id": "um6SzPwKZGyh",
        "outputId": "81ccf8a2-fce1-48a3-ada3-055839f2dbdc"
      },
      "execution_count": null,
      "outputs": [
        {
          "output_type": "stream",
          "name": "stdout",
          "text": [
            "[[  19.6       5.14      3.04    384.16    100.744    59.584    26.4196\n",
            "    15.6256    9.2416]\n",
            " [  22.        5.88      3.52    484.      129.36     77.44     34.5744\n",
            "    20.6976   12.3904]\n",
            " [  18.7       5.2       3.12    349.69     97.24     58.344    27.04\n",
            "    16.224     9.7344]\n",
            " [  17.4       4.59      2.94    302.76     79.866    51.156    21.0681\n",
            "    13.4946    8.6436]\n",
            " [  36.       10.61      6.74   1296.      381.96    242.64    112.5721\n",
            "    71.5114   45.4276]\n",
            " [  25.        6.44      3.68    625.      161.       92.       41.4736\n",
            "    23.6992   13.5424]\n",
            " [  40.       11.93      7.11   1600.      477.2     284.4     142.3249\n",
            "    84.8223   50.5521]\n",
            " [  39.       12.43      7.35   1521.      484.77    286.65    154.5049\n",
            "    91.3605   54.0225]\n",
            " [  43.       11.93      7.28   1849.      512.99    313.04    142.3249\n",
            "    86.8504   52.9984]\n",
            " [  22.        5.64      3.52    484.      124.08     77.44     31.8096\n",
            "    19.8528   12.3904]\n",
            " [  20.        5.08      2.77    400.      101.6      55.4      25.8064\n",
            "    14.0716    7.6729]\n",
            " [  22.        6.11      3.52    484.      134.42     77.44     37.3321\n",
            "    21.5072   12.3904]\n",
            " [  24.        7.29      3.72    576.      174.96     89.28     53.1441\n",
            "    27.1188   13.8384]\n",
            " [  27.5       7.17      4.34    756.25    197.175   119.35     51.4089\n",
            "    31.1178   18.8356]\n",
            " [  43.       12.51      7.42   1849.      537.93    319.06    156.5001\n",
            "    92.8242   55.0564]\n",
            " [  40.       11.73      7.22   1600.      469.2     288.8     137.5929\n",
            "    84.6906   52.1284]\n",
            " [  24.        6.38      3.82    576.      153.12     91.68     40.7044\n",
            "    24.3716   14.5924]\n",
            " [  21.        5.92      3.31    441.      124.32     69.51     35.0464\n",
            "    19.5952   10.9561]\n",
            " [  27.5       7.05      4.34    756.25    193.875   119.35     49.7025\n",
            "    30.597    18.8356]\n",
            " [  40.       12.38      7.46   1600.      495.2     298.4     153.2644\n",
            "    92.3548   55.6516]\n",
            " [  32.8      10.03      6.02   1075.84    328.984   197.456   100.6009\n",
            "    60.3806   36.2404]\n",
            " [  26.5       7.17      4.14    702.25    190.005   109.71     51.4089\n",
            "    29.6838   17.1396]\n",
            " [  36.5      10.88      6.86   1332.25    397.12    250.39    118.3744\n",
            "    74.6368   47.0596]\n",
            " [  13.7       3.53      2.      187.69     48.361    27.4      12.4609\n",
            "     7.06      4.    ]\n",
            " [  22.7       5.95      3.63    515.29    135.065    82.401    35.4025\n",
            "    21.5985   13.1769]\n",
            " [  15.        3.82      2.43    225.       57.3      36.45     14.5924\n",
            "     9.2826    5.9049]\n",
            " [  37.       10.57      6.37   1369.      391.09    235.69    111.7249\n",
            "    67.3309   40.5769]\n",
            " [  35.       11.49      7.8    1225.      402.15    273.      132.0201\n",
            "    89.622    60.84  ]\n",
            " [  28.7       7.59      4.64    823.69    217.833   133.168    57.6081\n",
            "    35.2176   21.5296]\n",
            " [  23.5       6.28      3.72    552.25    147.58     87.42     39.4384\n",
            "    23.3616   13.8384]\n",
            " [  39.       11.14      6.     1521.      434.46    234.      124.0996\n",
            "    66.84     36.    ]\n",
            " [  21.        5.69      3.56    441.      119.49     74.76     32.3761\n",
            "    20.2564   12.6736]\n",
            " [  23.        5.22      3.63    529.      120.06     83.49     27.2484\n",
            "    18.9486   13.1769]\n",
            " [  22.        5.52      4.      484.      121.44     88.       30.4704\n",
            "    22.08     16.    ]\n",
            " [  44.       12.49      7.6    1936.      549.56    334.4     156.0001\n",
            "    94.924    57.76  ]\n",
            " [  22.5       6.79      3.62    506.25    152.775    81.45     46.1041\n",
            "    24.5798   13.1044]\n",
            " [  19.        5.64      3.05    361.      107.16     57.95     31.8096\n",
            "    17.202     9.3025]\n",
            " [  37.       10.84      6.26   1369.      401.08    231.62    117.5056\n",
            "    67.8584   39.1876]\n",
            " [  22.        6.11      3.41    484.      134.42     75.02     37.3321\n",
            "    20.8351   11.6281]\n",
            " [  25.6       6.56      4.24    655.36    167.936   108.544    43.0336\n",
            "    27.8144   17.9776]\n",
            " [  42.       12.8       6.87   1764.      537.6     288.54    163.84\n",
            "    87.936    47.1969]\n",
            " [  34.5      10.26      6.39   1190.25    353.97    220.455   105.2676\n",
            "    65.5614   40.8321]]\n",
            "\n",
            "(42, 9)\n"
          ]
        }
      ]
    },
    {
      "cell_type": "markdown",
      "source": [
        "<br>\n",
        "\n",
        "어떻게 9개의 특성이 만들어 졌는지 알아보려면 아래의 코드를 입력한다."
      ],
      "metadata": {
        "id": "8Lj02BFkaUzR"
      }
    },
    {
      "cell_type": "code",
      "source": [
        "poly.get_feature_names_out()"
      ],
      "metadata": {
        "colab": {
          "base_uri": "https://localhost:8080/"
        },
        "id": "5hCCOHSJaZ8e",
        "outputId": "01ff1cee-912b-4e53-ba4f-011f5b72641d"
      },
      "execution_count": null,
      "outputs": [
        {
          "output_type": "execute_result",
          "data": {
            "text/plain": [
              "array(['x0', 'x1', 'x2', 'x0^2', 'x0 x1', 'x0 x2', 'x1^2', 'x1 x2',\n",
              "       'x2^2'], dtype=object)"
            ]
          },
          "metadata": {},
          "execution_count": 17
        }
      ]
    },
    {
      "cell_type": "markdown",
      "source": [
        "'x0' 은 첫번째 특성<br>\n",
        "'x0 x1' 은 첫번째와 두번째 특성의 곱<br>\n",
        "'x0^2' 은 첫번째 특성의 제곱이다.\n",
        "\n",
        "\n",
        "<br><Br>\n",
        "\n",
        "이제 테스트 세트를 변환해보자."
      ],
      "metadata": {
        "id": "Nk3pNxPvasSg"
      }
    },
    {
      "cell_type": "code",
      "source": [
        "test_poly = poly.transform(test_input)"
      ],
      "metadata": {
        "id": "d03j_SdsbC5b"
      },
      "execution_count": null,
      "outputs": []
    },
    {
      "cell_type": "code",
      "source": [
        "from sklearn.linear_model import LinearRegression\n",
        "lr = LinearRegression()\n",
        "\n",
        "lr.fit(train_poly, train_target)\n",
        "\n",
        "print(lr.score(train_poly, train_target))\n",
        "print(lr.score(test_poly, test_target))"
      ],
      "metadata": {
        "colab": {
          "base_uri": "https://localhost:8080/"
        },
        "id": "Ni-3ZE09bK26",
        "outputId": "67f49aab-b75f-4920-eed1-b601917f49c8"
      },
      "execution_count": null,
      "outputs": [
        {
          "output_type": "stream",
          "name": "stdout",
          "text": [
            "0.9903183436982125\n",
            "0.9714559911594111\n"
          ]
        }
      ]
    },
    {
      "cell_type": "markdown",
      "source": [
        "테스트 세트의 점수가 높아진건 아니지만 과소적합은 해결했다.\n",
        "\n",
        "\n",
        "<br><br><br>\n",
        "이번엔 실험 삼아 특성을 많이 추가해보자. 5제곱까지 만들어보자.\n"
      ],
      "metadata": {
        "id": "2xqa5YS1bjDl"
      }
    },
    {
      "cell_type": "code",
      "source": [
        "poly = PolynomialFeatures(degree=5, include_bias=False)\n",
        "poly.fit(train_input)\n",
        "\n",
        "train_poly = poly.transform(train_input)\n",
        "test_poly = poly.transform(test_input)\n",
        "\n",
        "print(train_poly.shape)"
      ],
      "metadata": {
        "colab": {
          "base_uri": "https://localhost:8080/"
        },
        "id": "US12IHMUb3oe",
        "outputId": "b09052e2-3317-42d1-ec8a-a48036b2773b"
      },
      "execution_count": null,
      "outputs": [
        {
          "output_type": "stream",
          "name": "stdout",
          "text": [
            "(42, 55)\n"
          ]
        }
      ]
    },
    {
      "cell_type": "markdown",
      "source": [
        "특성이 55개나 된다. 이제 모델을 훈련해보자.\n",
        "<br><br>\n"
      ],
      "metadata": {
        "id": "5SYcqYz2cQ2n"
      }
    },
    {
      "cell_type": "code",
      "source": [
        "lr.fit(train_poly, train_target)\n",
        "\n",
        "print(lr.score(train_poly, train_target))\n",
        "print(lr.score(test_poly, test_target))"
      ],
      "metadata": {
        "colab": {
          "base_uri": "https://localhost:8080/"
        },
        "id": "GuKtxqRCcVYw",
        "outputId": "e6b98207-5aa4-4358-9132-21e715c4d726"
      },
      "execution_count": null,
      "outputs": [
        {
          "output_type": "stream",
          "name": "stdout",
          "text": [
            "0.9999999999996433\n",
            "-144.40579436844948\n"
          ]
        }
      ]
    },
    {
      "cell_type": "markdown",
      "source": [
        "<br>\n",
        "훈련 세트는 높은 점수를 보이는데 테스트 세트에서 음수가 나와버렸다.\n",
        "<br>\n",
        "\n",
        "***특성의 개수를 늘리면 선형 모델은 강력해진다. 훈련 세트에 대해 거의 완벽하게 학습할 수 있다. 하지만 훈련 세트에 너무 과대적합되어 테스트 세트의 점수가 큰 폭으로 낮아진다.***"
      ],
      "metadata": {
        "id": "PIjMc62ccg6e"
      }
    },
    {
      "cell_type": "code",
      "source": [],
      "metadata": {
        "id": "W5Zivu1RdBpz"
      },
      "execution_count": null,
      "outputs": []
    }
  ]
}